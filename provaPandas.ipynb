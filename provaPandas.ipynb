{
 "cells": [
  {
   "cell_type": "markdown",
   "id": "a001d925",
   "metadata": {},
   "source": [
    "Prova Pandas"
   ]
  },
  {
   "cell_type": "markdown",
   "id": "7cc118c1",
   "metadata": {},
   "source": [
    "Questão 1"
   ]
  },
  {
   "cell_type": "code",
   "execution_count": null,
   "id": "114a8698",
   "metadata": {},
   "outputs": [],
   "source": [
    "#---QUESTÃO 1---#\n",
    "from pandas import read_csv\n",
    "\n",
    "#o seu csv local ou uri\n",
    "pathMovies = '/home/melo/dev/provaPandas/data/movies.csv'\n",
    "pathRatings = '/home/melo/dev/provaPandas/data/ratings.csv'\n",
    "\n",
    "#1.csv Movies\n",
    "dadosMovies = read_csv(pathMovies)\n",
    "dadosMovies.head()\n",
    "dadosMovies = dadosMovies.values\n",
    "\n",
    "#2.csv Ratings\n",
    "dadosRating = read_csv(pathRatings)\n",
    "dadosRating.head()\n",
    "dadosRating = dadosRating.values\n",
    "\n",
    "#Movies\n",
    "display(dadosMovies)\n",
    "\n",
    "#Ratins\n",
    "display(dadosRating)"
   ]
  },
  {
   "cell_type": "markdown",
   "id": "7e651123",
   "metadata": {},
   "source": [
    "Questão 2"
   ]
  },
  {
   "cell_type": "code",
   "execution_count": null,
   "id": "14477f7d",
   "metadata": {},
   "outputs": [],
   "source": [
    "#---QUESTÃO 2---#\n",
    "import pandas as pd\n",
    "\n",
    "#o seu csv local ou uri\n",
    "path = '/home/melo/dev/provaPandas/data/movies.csv'\n",
    "\n",
    "dadosMovies = pd.read_csv(path)\n",
    "dadosMovies.head()\n",
    "\n",
    "dadosSelect = dadosMovies[['movieId','title']]\n",
    "display(dadosSelect.head(7))"
   ]
  },
  {
   "cell_type": "markdown",
   "id": "3fbcd403",
   "metadata": {},
   "source": [
    "Questão 3"
   ]
  },
  {
   "cell_type": "code",
   "execution_count": null,
   "id": "cd2bb0a2",
   "metadata": {},
   "outputs": [],
   "source": [
    "#---QUESTAO 3---#\n",
    "import pandas as pd\n",
    "\n",
    "#o seu csv local ou uri\n",
    "path = '/home/melo/dev/provaPandas/data/ratings.csv'\n",
    "\n",
    "dados = pd.read_csv(path)\n",
    "dados.head()\n",
    "df = dados['rating'].mean()\n",
    "\n",
    "print('ratings\\n {:.1f}'.format(df))\n"
   ]
  },
  {
   "cell_type": "markdown",
   "id": "82750d14",
   "metadata": {},
   "source": [
    "Questão 4"
   ]
  },
  {
   "cell_type": "code",
   "execution_count": null,
   "id": "9fbf6b5e",
   "metadata": {},
   "outputs": [],
   "source": [
    "#---QUESTAO 4---#\n",
    "import pandas as pd\n",
    "\n",
    "#o seu csv local ou uri\n",
    "strPath = '/home/melo/dev/provaPandas/data/ratings.csv'\n",
    "\n",
    "dados = pd.read_csv(strPath)\n",
    "dados.head()\n",
    "\n",
    "out = dados\n",
    "out = dados.query('movieId == 19').mean()\n",
    "out = out.loc['rating']\n",
    "\n",
    "print('media do filme id19:\\n {:.1f}'.format(out))"
   ]
  },
  {
   "cell_type": "markdown",
   "id": "429850ce",
   "metadata": {},
   "source": [
    "Questão 5"
   ]
  },
  {
   "cell_type": "code",
   "execution_count": null,
   "id": "23841735",
   "metadata": {},
   "outputs": [],
   "source": [
    "#---QUESTAO 5---#\n",
    "#from numpy.core.fromnumeric import around\n",
    "import pandas as pd\n",
    "\n",
    "#o seu csv local ou uri\n",
    "path ='/home/melo/dev/provaPandas/data/movies.csv'\n",
    "\n",
    "dadosMovies = pd.read_csv(path)\n",
    "dadosMovies.head()\n",
    "\n",
    "dadosSelect = dadosMovies[['title','movieId']]\n",
    "dadosSelect = dadosSelect\n",
    "\n",
    "display(dadosSelect)"
   ]
  },
  {
   "cell_type": "markdown",
   "id": "fbce00b2",
   "metadata": {},
   "source": [
    "Questão 6"
   ]
  },
  {
   "cell_type": "code",
   "execution_count": null,
   "id": "47a1f6a2",
   "metadata": {},
   "outputs": [],
   "source": [
    "#---QUESTAO 6---#\n",
    "import pandas as pd\n",
    "\n",
    "#o seu csv local ou uri\n",
    "path = '/home/melo/dev/provaPandas/data/ratings.csv'\n",
    "\n",
    "dados = pd.read_csv(path)\n",
    "dados.head()\n",
    "\n",
    "out = dados.drop_duplicates(subset='movieId')\n",
    "out = out.query('rating == 0.5')\n",
    "out=out['movieId'].tolist()\n",
    "\n",
    "\n",
    "display('IDs dos filmes com nota minima:',out)"
   ]
  },
  {
   "cell_type": "markdown",
   "id": "26b8e024",
   "metadata": {},
   "source": [
    "Questão 7"
   ]
  },
  {
   "cell_type": "code",
   "execution_count": null,
   "id": "8d1fa749",
   "metadata": {},
   "outputs": [],
   "source": [
    "#---QUESTAO 7---#\n",
    "import pandas as pd\n",
    "\n",
    "#o seu csv local ou uri\n",
    "path = '/home/melo/dev/provaPandas/data/ratings.csv'\n",
    "\n",
    "dadosRating = pd.read_csv(path)\n",
    "dadosRating.head()\n",
    "\n",
    "out = dadosRating.drop_duplicates(subset='movieId')\n",
    "out = out.query('rating == 5.0')\n",
    "out=out['movieId'].tolist()\n",
    "\n",
    "display('IDs dos filmes com nota maxima:',out)"
   ]
  },
  {
   "cell_type": "markdown",
   "id": "a841895f",
   "metadata": {},
   "source": [
    "Questão 8"
   ]
  },
  {
   "cell_type": "code",
   "execution_count": null,
   "metadata": {},
   "outputs": [],
   "source": [
    "#---QUESTAO 8---#\n",
    "import pandas as pd\n",
    "from pandas.core.reshape.merge import merge\n",
    "\n",
    "#o seu csv local ou uri\n",
    "path ='/home/melo/dev/provaPandas/data/ratings.csv'\n",
    "auxPath = '/home/melo/dev/provaPandas/data/movies.csv'\n",
    "\n",
    "#csv Ratings\n",
    "dadosRating = pd.read_csv(path)\n",
    "dadosRating.head()\n",
    "\n",
    "#cvs Movies\n",
    "dadosMovies = pd.read_csv(auxPath)\n",
    "dadosMovies.head()\n",
    "\n",
    "dadosMerge = pd.merge(dadosMovies, dadosRating, how='inner', on='movieId')\n",
    "dadosMerge = dadosMerge[['movieId','userId','title', 'rating']]\n",
    "\n",
    "\n",
    "#Condição de busca no csv usando merge\n",
    "out = dadosMerge.query('rating == 5.0')\n",
    "out = out[['movieId','rating','title']]#IDs ja filtrados\n",
    "#drop duplicates\n",
    "out = out.drop_duplicates(subset='title')\n",
    "\n",
    "display(out)"
   ]
  }
 ],
 "metadata": {
  "interpreter": {
   "hash": "916dbcbb3f70747c44a77c7bcd40155683ae19c65e1c03b4aa3499c5328201f1"
  },
  "kernelspec": {
   "display_name": "Python 3.9.2 64-bit",
   "language": "python",
   "name": "python3"
  },
  "language_info": {
   "codemirror_mode": {
    "name": "ipython",
    "version": 3
   },
   "file_extension": ".py",
   "mimetype": "text/x-python",
   "name": "python",
   "nbconvert_exporter": "python",
   "pygments_lexer": "ipython3",
   "version": "3.9.2"
  }
 },
 "nbformat": 4,
 "nbformat_minor": 5
}
